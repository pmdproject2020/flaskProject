{
 "cells": [
  {
   "cell_type": "code",
   "execution_count": 2,
   "metadata": {},
   "outputs": [],
   "source": [
    "from flask import redirect,render_template,request,url_for,Flask,debughelpers,flash\n",
    "\n",
    "def is_Odd(number):\n",
    "    if number%2:\n",
    "        return \" ODD \"\n",
    "    else:\n",
    "        return \" EVEN \""
   ]
  },
  {
   "cell_type": "code",
   "execution_count": 26,
   "metadata": {
    "scrolled": true
   },
   "outputs": [
    {
     "name": "stdout",
     "output_type": "stream",
     "text": [
      " * Serving Flask app \"__main__\" (lazy loading)\n",
      " * Environment: production\n",
      "   WARNING: Do not use the development server in a production environment.\n",
      "   Use a production WSGI server instead.\n",
      " * Debug mode: off\n"
     ]
    },
    {
     "name": "stderr",
     "output_type": "stream",
     "text": [
      " * Running on http://127.0.0.1:5000/ (Press CTRL+C to quit)\n",
      "127.0.0.1 - - [21/Jan/2020 23:56:37] \"\u001b[37mGET / HTTP/1.1\u001b[0m\" 200 -\n",
      "127.0.0.1 - - [21/Jan/2020 23:56:47] \"\u001b[37mPOST / HTTP/1.1\u001b[0m\" 200 -\n",
      "127.0.0.1 - - [21/Jan/2020 23:57:02] \"\u001b[33mGET /answer/ HTTP/1.1\u001b[0m\" 404 -\n"
     ]
    }
   ],
   "source": [
    "app=Flask(__name__)\n",
    "\n",
    "@app.route('/',methods=[\"GET\",\"POST\"])\n",
    "def homepage():\n",
    "    return render_template('index.html')\n",
    "\n",
    "@app.route('/answer')\n",
    "def get_ANS():\n",
    "    return render_template('')\n",
    "\n",
    "@app.route('/answer')\n",
    "def get_ANS():\n",
    "    if request.method==\"POST\":\n",
    "        v=request.form['inp_num']\n",
    "        return render_template(\"Answer.html\",inp_num=v)\n",
    "    else:\n",
    "        return render_template('Answer.html',inp_num=\"Nothing\")\n",
    "\n",
    "\n",
    "if __name__==\"__main__\":\n",
    "    app.run()"
   ]
  },
  {
   "cell_type": "code",
   "execution_count": null,
   "metadata": {},
   "outputs": [],
   "source": [
    "@app.route('/home/',methods=[\"GET\",\"POST\"])\n",
    "def first_page():\n",
    "    try:\n",
    "        if request.method==\"POST\":\n",
    "            v=request.form['inp_num']\n",
    "            print(v)\n",
    "            ans=is_Odd(int(v))\n",
    "            return render_template('Answer.html')\n",
    "        else:\n",
    "            return redirect(url_for('homepage'))\n",
    "    except Exception as e:\n",
    "        #flash(e)\n",
    "        if request.method==\"POST\":\n",
    "            v=request.form['inp_num']\n",
    "            print(v)\n",
    "            ans=is_Odd(int(v))\n",
    "            return render_template('Answer.html')\n",
    "        return render_template('index.html')\n",
    "\n",
    "\n"
   ]
  }
 ],
 "metadata": {
  "kernelspec": {
   "display_name": "Python 3",
   "language": "python",
   "name": "python3"
  },
  "language_info": {
   "codemirror_mode": {
    "name": "ipython",
    "version": 3
   },
   "file_extension": ".py",
   "mimetype": "text/x-python",
   "name": "python",
   "nbconvert_exporter": "python",
   "pygments_lexer": "ipython3",
   "version": "3.7.3"
  }
 },
 "nbformat": 4,
 "nbformat_minor": 2
}
